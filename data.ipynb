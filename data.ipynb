{
 "cells": [
  {
   "cell_type": "code",
   "execution_count": 2,
   "id": "abc16a2f-1aef-4ce5-bdf8-c5fd1cb61d31",
   "metadata": {},
   "outputs": [
    {
     "name": "stdout",
     "output_type": "stream",
     "text": [
      "    SampleNo,\"x1\",\"x2\",\"x3\",\"x4\",\"x5\",\"x6\",\"Y\"\n",
      "0       1,\"25\",\"30\",\"18\",\"39\",\"-6\",\"30\",\"3822\"\n",
      "1        2,\"33\",\"40\",\"16\",\"20\",\"-14\",\"40\",\"73\"\n",
      "2       3,\"17\",\"13\",\"19\",\"49\",\"13\",\"13\",\"2194\"\n",
      "3         4,\"23\",\"32\",\"-1\",\"62\",\"12\",\"32\",\"65\"\n",
      "4        5,\"39\",\"27\",\"-5\",\"19\",\"-16\",\"27\",\"24\"\n",
      "..                                         ...\n",
      "115       116,\"93\",\"39\",\"18\",\"21\",\"-3\",\"39\",\"\"\n",
      "116      117,\"16\",\"47\",\"10\",\"32\",\"-14\",\"47\",\"\"\n",
      "117        118,\"52\",\"24\",\"24\",\"27\",\"0\",\"24\",\"\"\n",
      "118      119,\"94\",\"17\",\"-6\",\"42\",\"-16\",\"17\",\"\"\n",
      "119         120,\"47\",\"39\",\"2\",\"94\",\"0\",\"39\",\"\"\n",
      "\n",
      "[120 rows x 1 columns]\n"
     ]
    }
   ],
   "source": [
    "import pandas as pd\n",
    "sampledata = pd.read_csv('c:/ddma2/data.csv')\n",
    "print(sampledata)"
   ]
  },
  {
   "cell_type": "code",
   "execution_count": 5,
   "id": "27fac6f1-8e55-4611-af8f-cdb4fc808b6f",
   "metadata": {},
   "outputs": [
    {
     "name": "stdout",
     "output_type": "stream",
     "text": [
      "SampleNo,\"x1\",\"x2\",\"x3\",\"x4\",\"x5\",\"x6\",\"Y\"    0\n",
      "dtype: int64\n"
     ]
    }
   ],
   "source": [
    "print(sampledata.isnull().sum())"
   ]
  },
  {
   "cell_type": "code",
   "execution_count": 8,
   "id": "205612b7-dd2b-477c-99d8-5aa48e218ffe",
   "metadata": {},
   "outputs": [],
   "source": [
    "sampledata_cleaned = sampledata.dropna()"
   ]
  },
  {
   "cell_type": "code",
   "execution_count": 12,
   "id": "b7e8cfae-2f5c-4a82-adf8-043fc2ecaf7e",
   "metadata": {},
   "outputs": [
    {
     "name": "stdout",
     "output_type": "stream",
     "text": [
      "missing values after dropping:/n SampleNo,\"x1\",\"x2\",\"x3\",\"x4\",\"x5\",\"x6\",\"Y\"    0\n",
      "dtype: int64\n"
     ]
    }
   ],
   "source": [
    "missing_values_after = sampledata_cleaned.isnull().sum()\n",
    "print('missing values after dropping:/n', missing_values_after)"
   ]
  },
  {
   "cell_type": "code",
   "execution_count": 19,
   "id": "53cdd466-7094-4b79-a050-e15538b4aba5",
   "metadata": {},
   "outputs": [
    {
     "name": "stdout",
     "output_type": "stream",
     "text": [
      "all misssing valuess have been successully dropped.\n"
     ]
    }
   ],
   "source": [
    "if sampledata_cleaned.isnull().sum().sum() ==0:     \n",
    "    print('all misssing valuess have been successully dropped.')\n",
    "else:  \n",
    "    print('there are still missing values in the dataset.')"
   ]
  },
  {
   "cell_type": "code",
   "execution_count": 6,
   "id": "641050c6-d8d0-4cb7-9f38-f9d898e30c58",
   "metadata": {},
   "outputs": [
    {
     "name": "stdout",
     "output_type": "stream",
     "text": [
      "Empty DataFrame\n",
      "Columns: [SampleNo,\"x1\",\"x2\",\"x3\",\"x4\",\"x5\",\"x6\",\"Y\"]\n",
      "Index: []\n"
     ]
    }
   ],
   "source": [
    "import pandas as pd\n",
    "\n",
    "sampledata = pd.read_csv('c:/ddma2/data.csv')\n",
    "duplicates = sampledata[sampledata.duplicated()]\n",
    "\n",
    "print(duplicates)\n"
   ]
  },
  {
   "cell_type": "code",
   "execution_count": 8,
   "id": "2ee10c97-7e2d-4b5a-9899-98e7faef908f",
   "metadata": {},
   "outputs": [],
   "source": [
    "sampledata_cleaned = sampledata.drop_duplicates()"
   ]
  },
  {
   "cell_type": "code",
   "execution_count": 9,
   "id": "66c56b86-1702-4e1e-a535-620e67be5d0a",
   "metadata": {},
   "outputs": [
    {
     "name": "stdout",
     "output_type": "stream",
     "text": [
      "0\n"
     ]
    }
   ],
   "source": [
    "print(sampledata_cleaned.duplicated().sum())"
   ]
  },
  {
   "cell_type": "code",
   "execution_count": 10,
   "id": "602b524b-1e61-4bc7-b1b9-332bbce60579",
   "metadata": {},
   "outputs": [
    {
     "name": "stdout",
     "output_type": "stream",
     "text": [
      "SampleNo,\"x1\",\"x2\",\"x3\",\"x4\",\"x5\",\"x6\",\"Y\"    0\n",
      "dtype: int64\n",
      "0\n"
     ]
    }
   ],
   "source": [
    "print(sampledata_cleaned.isnull().sum())\n",
    "print(sampledata_cleaned.duplicated().sum())"
   ]
  },
  {
   "cell_type": "code",
   "execution_count": 13,
   "id": "cf764e26-91ce-464d-9d26-d861e17d06f3",
   "metadata": {},
   "outputs": [],
   "source": [
    "sampledata_cleaned.to_csv('cleaned_dataset.csv', index=False)\n"
   ]
  },
  {
   "cell_type": "code",
   "execution_count": null,
   "id": "e04f1f2b-6120-4fca-807f-b528bc04abab",
   "metadata": {},
   "outputs": [],
   "source": []
  }
 ],
 "metadata": {
  "kernelspec": {
   "display_name": "Python 3 (ipykernel)",
   "language": "python",
   "name": "python3"
  },
  "language_info": {
   "codemirror_mode": {
    "name": "ipython",
    "version": 3
   },
   "file_extension": ".py",
   "mimetype": "text/x-python",
   "name": "python",
   "nbconvert_exporter": "python",
   "pygments_lexer": "ipython3",
   "version": "3.12.2"
  }
 },
 "nbformat": 4,
 "nbformat_minor": 5
}
